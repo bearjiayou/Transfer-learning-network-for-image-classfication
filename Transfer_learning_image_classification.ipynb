{
 "cells": [
  {
   "cell_type": "code",
   "execution_count": null,
   "id": "a188fbb9",
   "metadata": {},
   "outputs": [],
   "source": [
    "import tensorflow.keras.layers as Layers\n",
    "import tensorflow.keras.activations as Actications\n",
    "import tensorflow.keras.models as Models\n",
    "import tensorflow.keras.optimizers as Optimizer\n",
    "import tensorflow.keras.metrics as Metrics\n",
    "import os\n",
    "import numpy as np\n",
    "from sklearn.utils import shuffle\n",
    "from random import randint\n",
    "import cv2\n",
    "from sklearn.model_selection import train_test_split\n",
    "from tensorflow.keras.layers import concatenate"
   ]
  },
  {
   "cell_type": "code",
   "execution_count": null,
   "id": "06a44589",
   "metadata": {},
   "outputs": [],
   "source": [
    "def get_images(directory):\n",
    "    Images = []\n",
    "    Labels = []  # 0 for Building , 1 for forest, 2 for glacier, 3 for mountain, 4 for Sea , 5 for Street\n",
    "    label = 0\n",
    "    \n",
    "    for labels in os.listdir(directory): #Main Directory where each class label is present as folder name.\n",
    "        if labels == 'glacier': #Folder contain Glacier Images get the '2' class label.\n",
    "            label = 2\n",
    "        elif labels == 'sea':\n",
    "            label = 3\n",
    "        elif labels == 'buildings':\n",
    "            label = 0\n",
    "        elif labels == 'forest':\n",
    "            label = 1\n",
    "\n",
    "        for image_file in os.listdir(directory+labels): #Extracting the file name of the image from Class Label folder\n",
    "            image = cv2.imread(directory+labels+r'/'+image_file) #Reading the image (OpenCV)\n",
    "            image = cv2.resize(image,(100,100)) #Resize the image, Some images are different sizes. (Resizing is very Important)\n",
    "            Images.append(image)\n",
    "            Labels.append(label)\n",
    "    \n",
    "    return shuffle(Images,Labels,random_state=817328462) #Shuffle the dataset you just prepared.\n",
    "\n",
    "def get_classlabel(class_code):\n",
    "    labels = {2:'glacier', 3:'sea', 0:'buildings', 1:'forest'}\n",
    "    \n",
    "    return labels[class_code]"
   ]
  },
  {
   "cell_type": "code",
   "execution_count": null,
   "id": "4b3e5a1b",
   "metadata": {},
   "outputs": [],
   "source": [
    "Images0, Labels0 = get_images('E:/fault diagnose/12-10/data whole/2000eachclass/seg_train/seg_train/0/') #Extract the training images from the folders. This folder contains all training images of buildings class.\n",
    "Images0 = np.array(Images0) #converting the list of images to numpy array.\n",
    "Labels0 = np.array(Labels0)\n",
    "\n",
    "Images1, Labels1 = get_images('E:/fault diagnose/12-10/data whole/2000eachclass/seg_train/seg_train/1/') \n",
    "Images1 = np.array(Images1) #converting the list of images to numpy array.\n",
    "Labels1 = np.array(Labels1)\n",
    "\n",
    "Images2, Labels2 = get_images('E:/fault diagnose/12-10/data whole/2000eachclass/seg_train/seg_train/2/') \n",
    "Images2 = np.array(Images2) #converting the list of images to numpy array.\n",
    "Labels2 = np.array(Labels2)\n",
    "\n",
    "\n",
    "Images3, Labels3 = get_images('E:/fault diagnose/12-10/data whole/2000eachclass/seg_train/seg_train/4/')\n",
    "Images3 = np.array(Images3) #converting the list of images to numpy array.\n",
    "Labels3 = np.array(Labels3)"
   ]
  },
  {
   "cell_type": "code",
   "execution_count": null,
   "id": "26f9c1c2",
   "metadata": {},
   "outputs": [],
   "source": [
    "a=0.5 # Total image number of each class is 2000. So the split ratio is 0.5 for training data\n",
    "Images0_train, Images0_test, Labels0_train, Labels0_test = train_test_split(Images0, Labels0, test_size=a)\n",
    "Images1_train, Images1_test, Labels1_train, Labels1_test = train_test_split(Images1, Labels1, test_size=a)\n",
    "Images2_train, Images2_test, Labels2_train, Labels2_test = train_test_split(Images2, Labels2, test_size=a)\n",
    "Images3_train, Images3_test, Labels3_train, Labels3_test = train_test_split(Images3, Labels3, test_size=a)\n",
    "\n",
    "Images1_train.shape"
   ]
  },
  {
   "cell_type": "code",
   "execution_count": null,
   "id": "0af05598",
   "metadata": {},
   "outputs": [],
   "source": [
    "Images0=np.concatenate((Images0_train,Images1_train,Images2_train,Images3_train))\n",
    "Labels0=np.concatenate((Labels0_train,Labels1_train,Labels2_train,Labels3_train))\n",
    "Images,Labels=shuffle(Images0,Labels0) # shuffle the training data.\n",
    "print(\"Shape of Images:\",Images.shape)\n",
    "print(\"Shape of Labels:\",Labels.shape)"
   ]
  },
  {
   "cell_type": "code",
   "execution_count": null,
   "id": "16e8ab16",
   "metadata": {},
   "outputs": [],
   "source": [
    "from tensorflow.keras.layers import Input\n",
    "input_tensor = Input(shape=(100,100, 3))\n",
    "input_tensor"
   ]
  },
  {
   "cell_type": "code",
   "execution_count": null,
   "id": "8c7eb457",
   "metadata": {},
   "outputs": [],
   "source": [
    "from tensorflow.keras.applications.xception import Xception\n",
    "from tensorflow.keras.applications.vgg16 import VGG16\n",
    "#base_model = Xception(weights='imagenet',include_top = False,input_tensor=input_tensor)\n",
    "base_model = VGG16(weights='imagenet',include_top = False,input_tensor=input_tensor)\n",
    "from tensorflow.keras.layers import GlobalAveragePooling2D,Dense\n",
    "from tensorflow.keras.models import Model\n",
    "im = base_model.output\n",
    "im = GlobalAveragePooling2D()(im)\n",
    "im = Dense(512, activation='relu')(im)\n",
    "predictions = Dense(4, activation='softmax')(im)"
   ]
  },
  {
   "cell_type": "code",
   "execution_count": null,
   "id": "893adfca",
   "metadata": {},
   "outputs": [],
   "source": [
    "model = Model(inputs=base_model.input, outputs=predictions)\n",
    "for layer in model.layers[:20]: # the former 20 layers of the transfer learning network is frozen. \n",
    "    layer.trainable = False\n",
    "model.compile(optimizer='rmsprop', loss='sparse_categorical_crossentropy',metrics=[\"accuracy\"])"
   ]
  },
  {
   "cell_type": "code",
   "execution_count": null,
   "id": "dd41f107",
   "metadata": {},
   "outputs": [],
   "source": [
    "model.summary()"
   ]
  },
  {
   "cell_type": "code",
   "execution_count": null,
   "id": "ce89c16c",
   "metadata": {},
   "outputs": [],
   "source": [
    "trained = model.fit(Images,Labels,epochs=20,validation_split=0)"
   ]
  },
  {
   "cell_type": "code",
   "execution_count": null,
   "id": "8ec1713e",
   "metadata": {},
   "outputs": [],
   "source": [
    "test_images,test_labels = get_images('E:/fault diagnose/12-10/data whole/2000eachclass/seg_test/seg_test/4types/') # testing data directory.\n",
    "test_images = np.array(test_images)\n",
    "test_labels = np.array(test_labels)\n",
    "model.evaluate(test_images,test_labels, verbose=1)"
   ]
  }
 ],
 "metadata": {
  "kernelspec": {
   "display_name": "Python 3",
   "language": "python",
   "name": "python3"
  },
  "language_info": {
   "codemirror_mode": {
    "name": "ipython",
    "version": 3
   },
   "file_extension": ".py",
   "mimetype": "text/x-python",
   "name": "python",
   "nbconvert_exporter": "python",
   "pygments_lexer": "ipython3",
   "version": "3.6.13"
  }
 },
 "nbformat": 4,
 "nbformat_minor": 5
}
